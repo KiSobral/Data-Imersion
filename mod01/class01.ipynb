{
  "nbformat": 4,
  "nbformat_minor": 0,
  "metadata": {
    "colab": {
      "name": "Mod01_aula01.ipynb",
      "provenance": [],
      "authorship_tag": "ABX9TyNwjZhsyCMBIxT4zd+dqdch",
      "include_colab_link": true
    },
    "kernelspec": {
      "name": "python3",
      "display_name": "Python 3"
    }
  },
  "cells": [
    {
      "cell_type": "markdown",
      "metadata": {
        "id": "view-in-github",
        "colab_type": "text"
      },
      "source": [
        "<a href=\"https://colab.research.google.com/github/KiSobral/Data-Imersion/blob/main/mod01/class01.ipynb\" target=\"_parent\"><img src=\"https://colab.research.google.com/assets/colab-badge.svg\" alt=\"Open In Colab\"/></a>"
      ]
    },
    {
      "cell_type": "markdown",
      "metadata": {
        "id": "K2QykmirGgUb"
      },
      "source": [
        "# Primeiro Módulo - Aula 01\n",
        "\n",
        "O primeiro módulo do bootcamp introduz os pilares básicos de uma anáálise de dados.\n",
        "\n",
        "## O que é abordado\n",
        "Neste notebook foi abordado:\n",
        "  - Como utilizar o Tabnet para buscar dados da saúde Brasileira;\n",
        "  - Como utilizar o google Colaboratory;\n",
        "  - Como ler um arquivo CSV com Pandas;\n",
        "  - Como ler um arquivo CSV com caracteres especiais do idioma português;\n",
        "  - Como ignorar o cabeçalho de um arquivo CSV;\n",
        "  - O que são DataFrame;\n",
        "  - Os desafios de ler um arquivo do mundo real;\n",
        "  - Como formatar a impressão dos dados de um DataFrame Pandas;\n",
        "  - Como plotar um gráfico com o Pandas;\n",
        "  - Como formatar a sua visualização;\n",
        "  - Como alterar os ticks do seu gráfico utilizando o Matplotlib."
      ]
    },
    {
      "cell_type": "markdown",
      "metadata": {
        "id": "Sa-_QmlZJEfi"
      },
      "source": [
        "## Recuperação dos dados "
      ]
    },
    {
      "cell_type": "code",
      "metadata": {
        "id": "PviW3eLqW-nA"
      },
      "source": [
        "import pandas as pd\n"
      ],
      "execution_count": 1,
      "outputs": []
    },
    {
      "cell_type": "code",
      "metadata": {
        "id": "q-HJKLVgZMMq",
        "outputId": "85c40ebb-77f0-48f9-aab7-e0f0c6b9bae3",
        "colab": {
          "base_uri": "https://localhost:8080/",
          "height": 377
        }
      },
      "source": [
        "df = pd.read_csv('https://raw.githubusercontent.com/alura-cursos/agendamento-hospitalar/main/dados/A151346189_28_143_208.csv', encoding='ISO-8859-1',\n",
        "                 skiprows=3, skipfooter=12, sep=';', thousands=\".\",\n",
        "                 decimal=\",\")\n",
        "df.head()"
      ],
      "execution_count": 3,
      "outputs": [
        {
          "output_type": "stream",
          "text": [
            "/usr/local/lib/python3.6/dist-packages/ipykernel_launcher.py:3: ParserWarning: Falling back to the 'python' engine because the 'c' engine does not support skipfooter; you can avoid this warning by specifying engine='python'.\n",
            "  This is separate from the ipykernel package so we can avoid doing imports until\n"
          ],
          "name": "stderr"
        },
        {
          "output_type": "execute_result",
          "data": {
            "text/html": [
              "<div>\n",
              "<style scoped>\n",
              "    .dataframe tbody tr th:only-of-type {\n",
              "        vertical-align: middle;\n",
              "    }\n",
              "\n",
              "    .dataframe tbody tr th {\n",
              "        vertical-align: top;\n",
              "    }\n",
              "\n",
              "    .dataframe thead th {\n",
              "        text-align: right;\n",
              "    }\n",
              "</style>\n",
              "<table border=\"1\" class=\"dataframe\">\n",
              "  <thead>\n",
              "    <tr style=\"text-align: right;\">\n",
              "      <th></th>\n",
              "      <th>Unidade da Federação</th>\n",
              "      <th>2008/Jan</th>\n",
              "      <th>2008/Fev</th>\n",
              "      <th>2008/Mar</th>\n",
              "      <th>2008/Abr</th>\n",
              "      <th>2008/Mai</th>\n",
              "      <th>2008/Jun</th>\n",
              "      <th>2008/Jul</th>\n",
              "      <th>2008/Ago</th>\n",
              "      <th>2008/Set</th>\n",
              "      <th>2008/Out</th>\n",
              "      <th>2008/Nov</th>\n",
              "      <th>2008/Dez</th>\n",
              "      <th>2009/Jan</th>\n",
              "      <th>2009/Fev</th>\n",
              "      <th>2009/Mar</th>\n",
              "      <th>2009/Abr</th>\n",
              "      <th>2009/Mai</th>\n",
              "      <th>2009/Jun</th>\n",
              "      <th>2009/Jul</th>\n",
              "      <th>2009/Ago</th>\n",
              "      <th>2009/Set</th>\n",
              "      <th>2009/Out</th>\n",
              "      <th>2009/Nov</th>\n",
              "      <th>2009/Dez</th>\n",
              "      <th>2010/Jan</th>\n",
              "      <th>2010/Fev</th>\n",
              "      <th>2010/Mar</th>\n",
              "      <th>2010/Abr</th>\n",
              "      <th>2010/Mai</th>\n",
              "      <th>2010/Jun</th>\n",
              "      <th>2010/Jul</th>\n",
              "      <th>2010/Ago</th>\n",
              "      <th>2010/Set</th>\n",
              "      <th>2010/Out</th>\n",
              "      <th>2010/Nov</th>\n",
              "      <th>2010/Dez</th>\n",
              "      <th>2011/Jan</th>\n",
              "      <th>2011/Fev</th>\n",
              "      <th>2011/Mar</th>\n",
              "      <th>...</th>\n",
              "      <th>2017/Jun</th>\n",
              "      <th>2017/Jul</th>\n",
              "      <th>2017/Ago</th>\n",
              "      <th>2017/Set</th>\n",
              "      <th>2017/Out</th>\n",
              "      <th>2017/Nov</th>\n",
              "      <th>2017/Dez</th>\n",
              "      <th>2018/Jan</th>\n",
              "      <th>2018/Fev</th>\n",
              "      <th>2018/Mar</th>\n",
              "      <th>2018/Abr</th>\n",
              "      <th>2018/Mai</th>\n",
              "      <th>2018/Jun</th>\n",
              "      <th>2018/Jul</th>\n",
              "      <th>2018/Ago</th>\n",
              "      <th>2018/Set</th>\n",
              "      <th>2018/Out</th>\n",
              "      <th>2018/Nov</th>\n",
              "      <th>2018/Dez</th>\n",
              "      <th>2019/Jan</th>\n",
              "      <th>2019/Fev</th>\n",
              "      <th>2019/Mar</th>\n",
              "      <th>2019/Abr</th>\n",
              "      <th>2019/Mai</th>\n",
              "      <th>2019/Jun</th>\n",
              "      <th>2019/Jul</th>\n",
              "      <th>2019/Ago</th>\n",
              "      <th>2019/Set</th>\n",
              "      <th>2019/Out</th>\n",
              "      <th>2019/Nov</th>\n",
              "      <th>2019/Dez</th>\n",
              "      <th>2020/Jan</th>\n",
              "      <th>2020/Fev</th>\n",
              "      <th>2020/Mar</th>\n",
              "      <th>2020/Abr</th>\n",
              "      <th>2020/Mai</th>\n",
              "      <th>2020/Jun</th>\n",
              "      <th>2020/Jul</th>\n",
              "      <th>2020/Ago</th>\n",
              "      <th>Total</th>\n",
              "    </tr>\n",
              "  </thead>\n",
              "  <tbody>\n",
              "    <tr>\n",
              "      <th>0</th>\n",
              "      <td>11 Rondônia</td>\n",
              "      <td>1388528.39</td>\n",
              "      <td>2931283.42</td>\n",
              "      <td>1541682.52</td>\n",
              "      <td>1525314.96</td>\n",
              "      <td>1645953.84</td>\n",
              "      <td>1406150.68</td>\n",
              "      <td>3065279.01</td>\n",
              "      <td>3231494.61</td>\n",
              "      <td>3117178.63</td>\n",
              "      <td>3068430.44</td>\n",
              "      <td>2825838.52</td>\n",
              "      <td>2931173.58</td>\n",
              "      <td>2885269.07</td>\n",
              "      <td>2860103.74</td>\n",
              "      <td>3684944.68</td>\n",
              "      <td>3607289.68</td>\n",
              "      <td>3774356.60</td>\n",
              "      <td>3706711.84</td>\n",
              "      <td>3763187.55</td>\n",
              "      <td>3533625.83</td>\n",
              "      <td>3605007.43</td>\n",
              "      <td>3907032.72</td>\n",
              "      <td>3939820.71</td>\n",
              "      <td>3901084.11</td>\n",
              "      <td>3684407.02</td>\n",
              "      <td>3623015.58</td>\n",
              "      <td>3890461.90</td>\n",
              "      <td>4193533.87</td>\n",
              "      <td>4534400.67</td>\n",
              "      <td>4451208.03</td>\n",
              "      <td>4874592.78</td>\n",
              "      <td>4460802.38</td>\n",
              "      <td>5067886.24</td>\n",
              "      <td>4511092.85</td>\n",
              "      <td>4394680.50</td>\n",
              "      <td>4098741.80</td>\n",
              "      <td>4411499.48</td>\n",
              "      <td>3868617.95</td>\n",
              "      <td>4298702.78</td>\n",
              "      <td>...</td>\n",
              "      <td>7948291.63</td>\n",
              "      <td>8438077.45</td>\n",
              "      <td>7656644.83</td>\n",
              "      <td>8047742.98</td>\n",
              "      <td>8657206.23</td>\n",
              "      <td>8150893.68</td>\n",
              "      <td>7507845.13</td>\n",
              "      <td>7998345.94</td>\n",
              "      <td>8893683.69</td>\n",
              "      <td>8867793.32</td>\n",
              "      <td>8871408.50</td>\n",
              "      <td>8501601.67</td>\n",
              "      <td>8315107.81</td>\n",
              "      <td>8525499.78</td>\n",
              "      <td>9177611.46</td>\n",
              "      <td>7368996.38</td>\n",
              "      <td>8835095.43</td>\n",
              "      <td>8328186.64</td>\n",
              "      <td>8408512.77</td>\n",
              "      <td>9351705.82</td>\n",
              "      <td>8143007.97</td>\n",
              "      <td>8949741.77</td>\n",
              "      <td>9630553.15</td>\n",
              "      <td>9581970.31</td>\n",
              "      <td>7891114.05</td>\n",
              "      <td>9792370.67</td>\n",
              "      <td>9170787.53</td>\n",
              "      <td>8816846.71</td>\n",
              "      <td>10024554.15</td>\n",
              "      <td>9675423.70</td>\n",
              "      <td>8085025.66</td>\n",
              "      <td>9221412.18</td>\n",
              "      <td>7493310.88</td>\n",
              "      <td>8092260.11</td>\n",
              "      <td>7273843.63</td>\n",
              "      <td>7652120.28</td>\n",
              "      <td>8725530.68</td>\n",
              "      <td>11152107.08</td>\n",
              "      <td>10285455.78</td>\n",
              "      <td>9.291297e+08</td>\n",
              "    </tr>\n",
              "    <tr>\n",
              "      <th>1</th>\n",
              "      <td>12 Acre</td>\n",
              "      <td>902416.00</td>\n",
              "      <td>1497206.26</td>\n",
              "      <td>1794028.48</td>\n",
              "      <td>1730469.42</td>\n",
              "      <td>1819443.92</td>\n",
              "      <td>1828496.00</td>\n",
              "      <td>2511754.59</td>\n",
              "      <td>2089107.14</td>\n",
              "      <td>2275708.53</td>\n",
              "      <td>1923886.57</td>\n",
              "      <td>1756986.80</td>\n",
              "      <td>2235639.98</td>\n",
              "      <td>2497116.43</td>\n",
              "      <td>2253558.01</td>\n",
              "      <td>2122673.92</td>\n",
              "      <td>2834317.62</td>\n",
              "      <td>2722065.97</td>\n",
              "      <td>2432831.95</td>\n",
              "      <td>2630190.65</td>\n",
              "      <td>2307579.00</td>\n",
              "      <td>-</td>\n",
              "      <td>2826477.02</td>\n",
              "      <td>2170791.18</td>\n",
              "      <td>2541526.44</td>\n",
              "      <td>2491042.33</td>\n",
              "      <td>1954473.90</td>\n",
              "      <td>2389996.38</td>\n",
              "      <td>2654878.60</td>\n",
              "      <td>2844085.21</td>\n",
              "      <td>2336207.19</td>\n",
              "      <td>2125143.06</td>\n",
              "      <td>2430293.67</td>\n",
              "      <td>2377738.44</td>\n",
              "      <td>2184746.84</td>\n",
              "      <td>2468452.90</td>\n",
              "      <td>2516284.54</td>\n",
              "      <td>3051370.08</td>\n",
              "      <td>2629104.42</td>\n",
              "      <td>2485451.79</td>\n",
              "      <td>...</td>\n",
              "      <td>2397512.85</td>\n",
              "      <td>2348760.00</td>\n",
              "      <td>3139155.41</td>\n",
              "      <td>2765062.92</td>\n",
              "      <td>4540084.78</td>\n",
              "      <td>4120228.96</td>\n",
              "      <td>2610454.55</td>\n",
              "      <td>3576595.19</td>\n",
              "      <td>2444567.37</td>\n",
              "      <td>2602434.35</td>\n",
              "      <td>3064163.42</td>\n",
              "      <td>2276236.69</td>\n",
              "      <td>3239474.10</td>\n",
              "      <td>3126429.88</td>\n",
              "      <td>2998865.51</td>\n",
              "      <td>2619709.86</td>\n",
              "      <td>3018048.94</td>\n",
              "      <td>3342614.24</td>\n",
              "      <td>2123426.26</td>\n",
              "      <td>2664654.52</td>\n",
              "      <td>1906429.95</td>\n",
              "      <td>3096439.63</td>\n",
              "      <td>2411628.00</td>\n",
              "      <td>2840630.58</td>\n",
              "      <td>3260153.59</td>\n",
              "      <td>3250722.84</td>\n",
              "      <td>3204998.88</td>\n",
              "      <td>3052745.65</td>\n",
              "      <td>3124802.29</td>\n",
              "      <td>3021521.75</td>\n",
              "      <td>2874871.28</td>\n",
              "      <td>3331803.55</td>\n",
              "      <td>3417691.07</td>\n",
              "      <td>3076003.20</td>\n",
              "      <td>2286642.60</td>\n",
              "      <td>2896340.24</td>\n",
              "      <td>3045245.80</td>\n",
              "      <td>3915193.20</td>\n",
              "      <td>-</td>\n",
              "      <td>4.206680e+08</td>\n",
              "    </tr>\n",
              "    <tr>\n",
              "      <th>2</th>\n",
              "      <td>13 Amazonas</td>\n",
              "      <td>4735529.42</td>\n",
              "      <td>7118990.57</td>\n",
              "      <td>8196635.49</td>\n",
              "      <td>8259378.42</td>\n",
              "      <td>7831399.90</td>\n",
              "      <td>8477273.62</td>\n",
              "      <td>9368858.72</td>\n",
              "      <td>9352532.70</td>\n",
              "      <td>9363099.35</td>\n",
              "      <td>8618318.83</td>\n",
              "      <td>6555549.08</td>\n",
              "      <td>7777645.88</td>\n",
              "      <td>7403068.36</td>\n",
              "      <td>6683346.89</td>\n",
              "      <td>9927781.20</td>\n",
              "      <td>8844511.21</td>\n",
              "      <td>9079035.96</td>\n",
              "      <td>8832894.53</td>\n",
              "      <td>9373395.97</td>\n",
              "      <td>9578326.03</td>\n",
              "      <td>9730634.16</td>\n",
              "      <td>9179252.65</td>\n",
              "      <td>8314648.93</td>\n",
              "      <td>9050439.39</td>\n",
              "      <td>9419460.86</td>\n",
              "      <td>8680178.57</td>\n",
              "      <td>9168055.41</td>\n",
              "      <td>9897901.80</td>\n",
              "      <td>9651362.37</td>\n",
              "      <td>10854599.47</td>\n",
              "      <td>10417122.89</td>\n",
              "      <td>8718347.13</td>\n",
              "      <td>8221592.12</td>\n",
              "      <td>9613977.03</td>\n",
              "      <td>9927574.41</td>\n",
              "      <td>9470661.21</td>\n",
              "      <td>9736750.91</td>\n",
              "      <td>8745259.80</td>\n",
              "      <td>9380112.36</td>\n",
              "      <td>...</td>\n",
              "      <td>12789637.85</td>\n",
              "      <td>14376990.41</td>\n",
              "      <td>14240071.26</td>\n",
              "      <td>13594647.25</td>\n",
              "      <td>14584288.95</td>\n",
              "      <td>13158724.61</td>\n",
              "      <td>13169660.32</td>\n",
              "      <td>13572263.03</td>\n",
              "      <td>13083081.70</td>\n",
              "      <td>14322305.22</td>\n",
              "      <td>14643340.51</td>\n",
              "      <td>14632208.09</td>\n",
              "      <td>14500521.14</td>\n",
              "      <td>14840533.42</td>\n",
              "      <td>14427620.91</td>\n",
              "      <td>15818964.25</td>\n",
              "      <td>16358462.57</td>\n",
              "      <td>15391163.74</td>\n",
              "      <td>14154362.85</td>\n",
              "      <td>16791397.31</td>\n",
              "      <td>14369987.43</td>\n",
              "      <td>16339024.96</td>\n",
              "      <td>15622910.63</td>\n",
              "      <td>16483166.92</td>\n",
              "      <td>15422243.28</td>\n",
              "      <td>15961988.04</td>\n",
              "      <td>15787896.78</td>\n",
              "      <td>16515441.67</td>\n",
              "      <td>15731201.23</td>\n",
              "      <td>15744605.61</td>\n",
              "      <td>14346553.60</td>\n",
              "      <td>16018459.07</td>\n",
              "      <td>14913745.37</td>\n",
              "      <td>15068304.35</td>\n",
              "      <td>13509579.29</td>\n",
              "      <td>19658585.46</td>\n",
              "      <td>20897542.93</td>\n",
              "      <td>19346450.18</td>\n",
              "      <td>14726443.67</td>\n",
              "      <td>1.771655e+09</td>\n",
              "    </tr>\n",
              "    <tr>\n",
              "      <th>3</th>\n",
              "      <td>14 Roraima</td>\n",
              "      <td>657889.53</td>\n",
              "      <td>777939.31</td>\n",
              "      <td>718688.03</td>\n",
              "      <td>839994.39</td>\n",
              "      <td>862347.96</td>\n",
              "      <td>832440.66</td>\n",
              "      <td>996693.09</td>\n",
              "      <td>894271.18</td>\n",
              "      <td>910424.17</td>\n",
              "      <td>1191770.32</td>\n",
              "      <td>1056218.71</td>\n",
              "      <td>1244339.25</td>\n",
              "      <td>1085679.25</td>\n",
              "      <td>969528.54</td>\n",
              "      <td>1393226.70</td>\n",
              "      <td>1273734.17</td>\n",
              "      <td>1552638.50</td>\n",
              "      <td>1490587.74</td>\n",
              "      <td>1596751.80</td>\n",
              "      <td>1848998.68</td>\n",
              "      <td>1701611.25</td>\n",
              "      <td>1164711.18</td>\n",
              "      <td>1434809.17</td>\n",
              "      <td>1603817.28</td>\n",
              "      <td>1437340.80</td>\n",
              "      <td>1332094.01</td>\n",
              "      <td>1900513.75</td>\n",
              "      <td>1933875.49</td>\n",
              "      <td>1773958.29</td>\n",
              "      <td>1804729.73</td>\n",
              "      <td>1846639.32</td>\n",
              "      <td>1643518.23</td>\n",
              "      <td>1843163.29</td>\n",
              "      <td>1807885.17</td>\n",
              "      <td>1674871.65</td>\n",
              "      <td>1250999.28</td>\n",
              "      <td>1257275.43</td>\n",
              "      <td>1171045.72</td>\n",
              "      <td>1389668.67</td>\n",
              "      <td>...</td>\n",
              "      <td>2755620.24</td>\n",
              "      <td>2878177.60</td>\n",
              "      <td>2921978.36</td>\n",
              "      <td>2794080.79</td>\n",
              "      <td>2512259.50</td>\n",
              "      <td>2508514.18</td>\n",
              "      <td>2635287.45</td>\n",
              "      <td>2914195.21</td>\n",
              "      <td>2881281.13</td>\n",
              "      <td>2740423.51</td>\n",
              "      <td>2695484.62</td>\n",
              "      <td>2613895.43</td>\n",
              "      <td>3020718.84</td>\n",
              "      <td>2860584.22</td>\n",
              "      <td>2740088.01</td>\n",
              "      <td>2689103.41</td>\n",
              "      <td>2985029.23</td>\n",
              "      <td>2771881.20</td>\n",
              "      <td>2938769.32</td>\n",
              "      <td>2527888.58</td>\n",
              "      <td>2587642.41</td>\n",
              "      <td>1923440.17</td>\n",
              "      <td>2422446.17</td>\n",
              "      <td>2495491.03</td>\n",
              "      <td>2851291.67</td>\n",
              "      <td>3137537.40</td>\n",
              "      <td>3788154.80</td>\n",
              "      <td>3217218.61</td>\n",
              "      <td>3113940.14</td>\n",
              "      <td>3157977.67</td>\n",
              "      <td>3097113.21</td>\n",
              "      <td>3059823.80</td>\n",
              "      <td>2912519.98</td>\n",
              "      <td>2937346.43</td>\n",
              "      <td>2868820.96</td>\n",
              "      <td>2752228.26</td>\n",
              "      <td>3401864.29</td>\n",
              "      <td>3015488.30</td>\n",
              "      <td>2826486.18</td>\n",
              "      <td>3.050109e+08</td>\n",
              "    </tr>\n",
              "    <tr>\n",
              "      <th>4</th>\n",
              "      <td>15 Pará</td>\n",
              "      <td>18864744.11</td>\n",
              "      <td>19553758.20</td>\n",
              "      <td>21937342.70</td>\n",
              "      <td>20842829.69</td>\n",
              "      <td>23249952.88</td>\n",
              "      <td>23240687.56</td>\n",
              "      <td>24002223.56</td>\n",
              "      <td>23341218.03</td>\n",
              "      <td>25172261.32</td>\n",
              "      <td>24011712.48</td>\n",
              "      <td>21526303.70</td>\n",
              "      <td>23896804.99</td>\n",
              "      <td>24613320.93</td>\n",
              "      <td>24015940.01</td>\n",
              "      <td>26624310.10</td>\n",
              "      <td>26478979.58</td>\n",
              "      <td>26366401.19</td>\n",
              "      <td>25440701.25</td>\n",
              "      <td>28079331.88</td>\n",
              "      <td>27588522.26</td>\n",
              "      <td>27967969.22</td>\n",
              "      <td>28430631.19</td>\n",
              "      <td>25432419.12</td>\n",
              "      <td>26405862.20</td>\n",
              "      <td>25841889.70</td>\n",
              "      <td>26527192.33</td>\n",
              "      <td>27433129.31</td>\n",
              "      <td>25753868.16</td>\n",
              "      <td>27515463.84</td>\n",
              "      <td>26934203.47</td>\n",
              "      <td>26668195.02</td>\n",
              "      <td>26606749.81</td>\n",
              "      <td>27226660.53</td>\n",
              "      <td>27185706.84</td>\n",
              "      <td>27019994.90</td>\n",
              "      <td>26036033.25</td>\n",
              "      <td>27913374.40</td>\n",
              "      <td>26771060.28</td>\n",
              "      <td>27060396.38</td>\n",
              "      <td>...</td>\n",
              "      <td>32202265.99</td>\n",
              "      <td>32771002.63</td>\n",
              "      <td>32204013.38</td>\n",
              "      <td>34983747.88</td>\n",
              "      <td>34138970.65</td>\n",
              "      <td>33280643.37</td>\n",
              "      <td>34426413.15</td>\n",
              "      <td>31591185.32</td>\n",
              "      <td>31378879.00</td>\n",
              "      <td>32909877.51</td>\n",
              "      <td>35053278.80</td>\n",
              "      <td>33973133.85</td>\n",
              "      <td>35560757.57</td>\n",
              "      <td>33465172.06</td>\n",
              "      <td>35497371.12</td>\n",
              "      <td>34896020.28</td>\n",
              "      <td>37385364.64</td>\n",
              "      <td>34294171.03</td>\n",
              "      <td>34168505.29</td>\n",
              "      <td>33849909.80</td>\n",
              "      <td>32871717.66</td>\n",
              "      <td>33130995.71</td>\n",
              "      <td>36044319.40</td>\n",
              "      <td>35906526.59</td>\n",
              "      <td>35242306.77</td>\n",
              "      <td>29460144.72</td>\n",
              "      <td>31179893.86</td>\n",
              "      <td>34175218.80</td>\n",
              "      <td>36112567.22</td>\n",
              "      <td>36853237.41</td>\n",
              "      <td>35925899.01</td>\n",
              "      <td>34345207.63</td>\n",
              "      <td>37384336.94</td>\n",
              "      <td>35512568.15</td>\n",
              "      <td>28217249.66</td>\n",
              "      <td>32617541.05</td>\n",
              "      <td>41625331.28</td>\n",
              "      <td>38438873.79</td>\n",
              "      <td>39911193.02</td>\n",
              "      <td>4.437116e+09</td>\n",
              "    </tr>\n",
              "  </tbody>\n",
              "</table>\n",
              "<p>5 rows × 154 columns</p>\n",
              "</div>"
            ],
            "text/plain": [
              "  Unidade da Federação     2008/Jan  ...     2020/Ago         Total\n",
              "0          11 Rondônia   1388528.39  ...  10285455.78  9.291297e+08\n",
              "1              12 Acre    902416.00  ...            -  4.206680e+08\n",
              "2          13 Amazonas   4735529.42  ...  14726443.67  1.771655e+09\n",
              "3           14 Roraima    657889.53  ...   2826486.18  3.050109e+08\n",
              "4              15 Pará  18864744.11  ...  39911193.02  4.437116e+09\n",
              "\n",
              "[5 rows x 154 columns]"
            ]
          },
          "metadata": {
            "tags": []
          },
          "execution_count": 3
        }
      ]
    },
    {
      "cell_type": "markdown",
      "metadata": {
        "id": "aO4SQsleJTHR"
      },
      "source": [
        "## Formatação dos dados"
      ]
    },
    {
      "cell_type": "code",
      "metadata": {
        "id": "aJW5gDlMZnaH",
        "outputId": "56f6f5fc-bd52-46ac-e16d-07fa0430a1d9",
        "colab": {
          "base_uri": "https://localhost:8080/"
        }
      },
      "source": [
        "df.mean()"
      ],
      "execution_count": null,
      "outputs": [
        {
          "output_type": "execute_result",
          "data": {
            "text/plain": [
              "2008/Jan    1.512685e+07\n",
              "2008/Fev    2.271016e+07\n",
              "2008/Mar    2.459419e+07\n",
              "2008/Abr    2.543196e+07\n",
              "2008/Mai    2.651125e+07\n",
              "                ...     \n",
              "2020/Abr    4.101366e+07\n",
              "2020/Mai    4.419363e+07\n",
              "2020/Jun    4.732999e+07\n",
              "2020/Jul    5.449551e+07\n",
              "Total       5.993732e+09\n",
              "Length: 151, dtype: float64"
            ]
          },
          "metadata": {
            "tags": []
          },
          "execution_count": 3
        }
      ]
    },
    {
      "cell_type": "code",
      "metadata": {
        "id": "GRsH49pVs8gA"
      },
      "source": [
        "pd.options.display.float_format = \"{:.2f}\".format"
      ],
      "execution_count": null,
      "outputs": []
    },
    {
      "cell_type": "code",
      "metadata": {
        "id": "Tjb01_pntrRS",
        "outputId": "5e5b92e6-08dc-4dc4-be68-14e5ab8b790d",
        "colab": {
          "base_uri": "https://localhost:8080/"
        }
      },
      "source": [
        "df.mean()"
      ],
      "execution_count": null,
      "outputs": [
        {
          "output_type": "execute_result",
          "data": {
            "text/plain": [
              "2008/Jan     15126846.64\n",
              "2008/Fev     22710158.12\n",
              "2008/Mar     24594187.35\n",
              "2008/Abr     25431957.83\n",
              "2008/Mai     26511245.91\n",
              "                ...     \n",
              "2020/Abr     41013660.39\n",
              "2020/Mai     44193633.75\n",
              "2020/Jun     47329994.46\n",
              "2020/Jul     54495511.57\n",
              "Total      5993731798.30\n",
              "Length: 151, dtype: float64"
            ]
          },
          "metadata": {
            "tags": []
          },
          "execution_count": 5
        }
      ]
    },
    {
      "cell_type": "code",
      "metadata": {
        "id": "qEQAUbwbuE9n",
        "outputId": "ce185c16-7fc8-4ccd-8ca2-fedbbf34e8bb",
        "colab": {
          "base_uri": "https://localhost:8080/"
        }
      },
      "source": [
        "df['2008/Jan'].mean()"
      ],
      "execution_count": null,
      "outputs": [
        {
          "output_type": "execute_result",
          "data": {
            "text/plain": [
              "15126846.638148146"
            ]
          },
          "metadata": {
            "tags": []
          },
          "execution_count": 6
        }
      ]
    },
    {
      "cell_type": "markdown",
      "metadata": {
        "id": "HgpwILQgJjZn"
      },
      "source": [
        "## Plot de gráficos dos dados do SUS"
      ]
    },
    {
      "cell_type": "code",
      "metadata": {
        "id": "ZEHm3pAlyAjc"
      },
      "source": [
        "import matplotlib.pyplot as plt\n",
        "import matplotlib.ticker as ticker\n",
        "\n",
        "plt.rcParams['text.color'] = \"white\"\n",
        "plt.rcParams['axes.labelcolor'] = \"white\"\n",
        "plt.rcParams['xtick.color'] = \"white\"\n",
        "plt.rcParams['ytick.color'] = \"white\"\n"
      ],
      "execution_count": null,
      "outputs": []
    },
    {
      "cell_type": "code",
      "metadata": {
        "id": "WIqtjhDvZupY"
      },
      "source": [
        "jul2020 = df.query(\"`2020/Jul` >= 0\")[[\"Unidade da Federação\", \"2020/Jul\"]].dropna().sort_values(\"2020/Jul\")\n",
        "jul2008 = df.query(\"`2008/Jul` >= 0\")[[\"Unidade da Federação\", \"2008/Jul\"]].dropna().sort_values(\"2008/Jul\")\n",
        "labels2020 = jul2020[\"Unidade da Federação\"].str.slice(3).unique()\n",
        "labels2008 = jul2008[\"Unidade da Federação\"].str.slice(3).unique()\n",
        "\n"
      ],
      "execution_count": null,
      "outputs": []
    },
    {
      "cell_type": "code",
      "metadata": {
        "id": "uEQ33yhIiC7V",
        "outputId": "e5037803-1ec3-422c-e4bf-995ec259a36e",
        "colab": {
          "base_uri": "https://localhost:8080/",
          "height": 782
        }
      },
      "source": [
        "ax = jul2020.plot.bar(figsize=(15,11))\n",
        "\n",
        "ax.set_ylabel(\"Valor total gasto em reais\", fontsize=16)\n",
        "ax.set_xlabel(\"Unidade da Federação\", fontsize=16)\n",
        "ax.set_xticklabels(labels2020)\n",
        "ax.yaxis.set_major_formatter(ticker.StrMethodFormatter(\"{x:,.2f}\"))\n",
        "\n",
        "plt.title(\"Gastos hospitalares do SUS em Julho de 2020\", fontsize=24)\n",
        "plt.grid(axis='y')"
      ],
      "execution_count": null,
      "outputs": [
        {
          "output_type": "display_data",
          "data": {
            "image/png": "[encoded data removed]",
            "text/plain": [
              "<Figure size 1080x792 with 1 Axes>"
            ]
          },
          "metadata": {
            "tags": [],
            "needs_background": "dark"
          }
        }
      ]
    },
    {
      "cell_type": "code",
      "metadata": {
        "id": "JmuCOJ86b2pV",
        "outputId": "c138ff17-8d16-48b7-cd56-7309b68da2e0",
        "colab": {
          "base_uri": "https://localhost:8080/",
          "height": 782
        }
      },
      "source": [
        "ax = jul2008.plot.bar(figsize=(15,11))\n",
        "\n",
        "ax.set_ylabel(\"Valor total gasto em reais\", fontsize=16)\n",
        "ax.set_xlabel(\"Unidade da Federação\", fontsize=16)\n",
        "ax.set_xticklabels(labels2008)\n",
        "ax.yaxis.set_major_formatter(ticker.StrMethodFormatter(\"{x:,.2f}\"))\n",
        "\n",
        "plt.title(\"Gastos hospitalares do SUS em Julho de 2008\", fontsize=24)\n",
        "plt.grid(axis='y')"
      ],
      "execution_count": null,
      "outputs": [
        {
          "output_type": "display_data",
          "data": {
            "image/png": "[encoded data removed]",
            "text/plain": [
              "<Figure size 1080x792 with 1 Axes>"
            ]
          },
          "metadata": {
            "tags": [],
            "needs_background": "dark"
          }
        }
      ]
    },
    {
      "cell_type": "code",
      "metadata": {
        "id": "z36BIP1EgQbd"
      },
      "source": [
        ""
      ],
      "execution_count": null,
      "outputs": []
    }
  ]
}